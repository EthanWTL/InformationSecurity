{
 "cells": [
  {
   "cell_type": "code",
   "execution_count": 1,
   "id": "b1f6db8d",
   "metadata": {},
   "outputs": [],
   "source": [
    "import numpy as np\n",
    "import pandas as pd\n",
    "import time"
   ]
  },
  {
   "cell_type": "markdown",
   "id": "8d29306c",
   "metadata": {},
   "source": [
    "# Encryption"
   ]
  },
  {
   "cell_type": "markdown",
   "id": "17e6d751",
   "metadata": {},
   "source": [
    "### function take input and outputs"
   ]
  },
  {
   "cell_type": "code",
   "execution_count": 2,
   "id": "7e1d7622",
   "metadata": {},
   "outputs": [],
   "source": [
    "def encryption():\n",
    "    text = input(\"what is the plain text?  \")\n",
    "    #upper case the text and split into list of char then ASCII code, then number code for our case.\n",
    "    textlist = [*text.upper()]\n",
    "    textnumlist = list(map(lambda x:ord(x)-65,textlist))\n",
    "        \n",
    "    #prepare the key into number list\n",
    "    key = input(\"What is the key for encryption? \")\n",
    "    keylist = [*key.upper()]\n",
    "    keynumlist = list(map(lambda x:ord(x)-65,keylist))\n",
    "        \n",
    "    #encryption the number list of cipher text\n",
    "    codenumlist = []\n",
    "    for i in range(len(textnumlist)):\n",
    "        keypos = i%len(key)\n",
    "        codenumlist.append(textnumlist[i]+keynumlist[keypos])\n",
    "        codenumlist = list(map(lambda x:x%26,codenumlist))\n",
    "    \n",
    "    #get the ascii list of cyphertext, and convert into textlist, then combine\n",
    "    ciphertext = ''.join(list(map(lambda x: chr(x),list(map(lambda x:x+65,codenumlist)))))\n",
    "    return print(\"The encrypted text is: \"+ ciphertext)"
   ]
  },
  {
   "cell_type": "code",
   "execution_count": 3,
   "id": "8d2d33f2",
   "metadata": {},
   "outputs": [
    {
     "name": "stdout",
     "output_type": "stream",
     "text": [
      "what is the plain text?  EthanlikeCS\n",
      "What is the key for encryption? Sky\n",
      "The encrypted text is: WDFSXJAUCUC\n"
     ]
    }
   ],
   "source": [
    "encryption()"
   ]
  },
  {
   "cell_type": "markdown",
   "id": "bf047859",
   "metadata": {},
   "source": [
    "# Decipher"
   ]
  },
  {
   "cell_type": "code",
   "execution_count": null,
   "id": "6491068c",
   "metadata": {},
   "outputs": [],
   "source": [
    "# take ciphertext, keylength, firstwordlength.\n",
    "# key can be anything. check if the plaintext first word match the dictionary"
   ]
  },
  {
   "cell_type": "markdown",
   "id": "353e4781",
   "metadata": {},
   "source": [
    "### Method"
   ]
  },
  {
   "cell_type": "code",
   "execution_count": 2,
   "id": "1bbfb96b",
   "metadata": {},
   "outputs": [],
   "source": [
    "def decryption(ciphertext,keylength,firstwordlength):\n",
    "    globalstart = time.time()\n",
    "    #prepare the num list of the first word of the ciphertext\n",
    "    cipherwordnumlist = list(map(lambda x:ord(x)-65,[*ciphertext.upper()][:firstwordlength]))\n",
    "    ciphernumlist = list(map(lambda x:ord(x)-65,[*ciphertext.upper()]))\n",
    "   \n",
    "    #prepare all the key combination\n",
    "    keylistlist = []\n",
    "    def printAllKLength(set, k):\n",
    "        n = len(set)\n",
    "        printAllKLengthRec(set, [], n, k)\n",
    "\n",
    "    def printAllKLengthRec(set, prefix, n, k):\n",
    "        if (k == 0) :\n",
    "            keylistlist.append(prefix)\n",
    "            return\n",
    "\n",
    "        for i in range(n):\n",
    "\n",
    "            # Next character of input added\n",
    "            newlist = prefix.copy()\n",
    "            newlist.append(set[i])\n",
    "\n",
    "            printAllKLengthRec(set, newlist, n, k - 1)\n",
    "            \n",
    "        \n",
    "\n",
    "    start = time.time()\n",
    "    printAllKLength([0,1,2,3,4,5,6,7,8,9,10,11,12,13,14,15,16,17,18,19,20,21,22,23,24,25],keylength)\n",
    "    end = time.time()\n",
    "    print(\"preparing the key list take : \" + str(end - start) + \"s\")\n",
    "\n",
    "    \n",
    "    #decipher\n",
    "    start = time.time()\n",
    "    deciphernumlistlist = []\n",
    "    deciphernumlist = []\n",
    "    for j in keylistlist:\n",
    "        deciphernumlist = []\n",
    "        for i in range(len(cipherwordnumlist)):\n",
    "            keypos = i%keylength\n",
    "            if(cipherwordnumlist[i] > j[keypos]):\n",
    "                deciphernumlist.append((cipherwordnumlist[i] - j[keypos])%26)\n",
    "            else:\n",
    "                deciphernumlist.append((cipherwordnumlist[i] + 26 - j[keypos])%26)\n",
    "                \n",
    "        deciphernumlistlist.append(deciphernumlist)\n",
    "    end = time.time()\n",
    "    print(\"decipher the text using all the key take: \" + str(end - start) + 's.')\n",
    "    #transform numlist list into textlist list\n",
    "    deciphertextlistlist= []\n",
    "    for i in deciphernumlistlist:\n",
    "        deciphertextlist = list(map(lambda x:chr(x+65),i))\n",
    "        deciphertextlistlist.append(deciphertextlist)\n",
    "        \n",
    "    #create a list of decipher text\n",
    "    decipherlist = []\n",
    "    for i in deciphertextlistlist:\n",
    "        decipher = ''.join(i)\n",
    "        decipherlist.append(decipher)\n",
    "        \n",
    "    #create a list of key text\n",
    "    keyasclist = []\n",
    "    for i in keylistlist:\n",
    "        ascnum = list(map(lambda x:x+65,i))\n",
    "        keyasclist.append(ascnum)\n",
    "\n",
    "    keytextlistlist = []\n",
    "    for i in keyasclist:\n",
    "        keytext = list(map(lambda x:chr(x),i))\n",
    "        keytextlistlist.append(keytext)\n",
    "\n",
    "    keytextlist = []\n",
    "    for i in keytextlistlist:\n",
    "        key = ''.join(i)\n",
    "        keytextlist.append(key)\n",
    "        \n",
    "    #create a text, key pair list\n",
    "    decipherpairlist = []\n",
    "    for i in range(len(decipherlist)):\n",
    "        pair = (decipherlist[i],keytextlist[i],keylistlist[i])\n",
    "        decipherpairlist.append(pair)\n",
    "\n",
    "        \n",
    "    #load the dictionary in memeory\n",
    "    #check with dictionary\n",
    "    with open(\"MP1_dict.txt\", \"r\") as f:\n",
    "        all_lines = f.readlines()\n",
    "\n",
    "    dictionary = list(map(lambda x:x.rstrip(\"\\n\"),all_lines))\n",
    "    \n",
    "    #check if the word contain memory\n",
    "    start = time.time()\n",
    "    print('the cipher text is: ' + ciphertext)\n",
    "    print('===============================================================')\n",
    "    for i in decipherpairlist:\n",
    "        for j in dictionary:\n",
    "            if i[0] == j:\n",
    "                wholeword = []\n",
    "                for k in range(len(ciphernumlist)):\n",
    "                    keypos = k%keylength\n",
    "                    if(ciphernumlist[k] < i[2][keypos]):\n",
    "                        wholeword.append((ciphernumlist[k] + 26 - i[2][keypos])%26 + 65)\n",
    "                    else:\n",
    "                        wholeword.append((ciphernumlist[k] - i[2][keypos])%26 + 65)\n",
    "                wholetext = ''.join(list(map(lambda x:chr(x),wholeword)))\n",
    "                print('A potential key is: ' + str(i[1]) + '  the first word will be: ' + str(i[0]))\n",
    "                print('The full sentence after decipher with this key is: ' + str(wholetext))\n",
    "                print('===============================================================')\n",
    "    end = time.time()\n",
    "    print('check with dictionary takes: ' + str(end-start) + 's.')\n",
    "    \n",
    "    globalend = time.time()\n",
    "    print(\"the entire process take: \" + str(globalend-globalstart) + 's')"
   ]
  },
  {
   "cell_type": "code",
   "execution_count": 156,
   "id": "0a58a82b",
   "metadata": {
    "collapsed": true
   },
   "outputs": [
    {
     "name": "stdout",
     "output_type": "stream",
     "text": [
      "preparing the key list take : 0.016002655029296875s\n",
      "decipher the text using all the key take: 0.0660407543182373s.\n",
      "the cipher text is: WDFSXGKQMGN\n",
      "A potential key is: BZB  the first word will be: VEERY\n",
      "The full sentence after decipher with this key is: VEERYFJRLFO\n",
      "===============================================================\n",
      "A potential key is: DFQ  the first word will be: TYPPS\n",
      "The full sentence after decipher with this key is: TYPPSQHLWDI\n",
      "===============================================================\n",
      "A potential key is: EDW  the first word will be: SAJOU\n",
      "The full sentence after decipher with this key is: SAJOUKGNQCK\n",
      "===============================================================\n",
      "A potential key is: EZQ  the first word will be: SEPOY\n",
      "The full sentence after decipher with this key is: SEPOYQGRWCO\n",
      "===============================================================\n",
      "A potential key is: HLF  the first word will be: PSALM\n",
      "The full sentence after decipher with this key is: PSALMBDFHZC\n",
      "===============================================================\n",
      "A potential key is: HMX  the first word will be: PRILL\n",
      "The full sentence after decipher with this key is: PRILLJDEPZB\n",
      "===============================================================\n",
      "A potential key is: KVT  the first word will be: MIMIC\n",
      "The full sentence after decipher with this key is: MIMICNAVTWS\n",
      "===============================================================\n",
      "A potential key is: PZF  the first word will be: HEADY\n",
      "The full sentence after decipher with this key is: HEADYBVRHRO\n",
      "===============================================================\n",
      "A potential key is: QJF  the first word will be: GUACO\n",
      "The full sentence after decipher with this key is: GUACOBUHHQE\n",
      "===============================================================\n",
      "A potential key is: SFO  the first word will be: EYRAS\n",
      "The full sentence after decipher with this key is: EYRASSSLYOI\n",
      "===============================================================\n",
      "A potential key is: SKY  the first word will be: ETHAN\n",
      "The full sentence after decipher with this key is: ETHANISGOOD\n",
      "===============================================================\n",
      "A potential key is: ZFN  the first word will be: XYSTS\n",
      "The full sentence after decipher with this key is: XYSTSTLLZHI\n",
      "===============================================================\n",
      "check with dictionary takes: 355.16309785842896s.\n",
      "the entire process take: 355.3880937099457s\n"
     ]
    }
   ],
   "source": [
    "decryption(\"WDFSXGKQMGN\",3,5)"
   ]
  },
  {
   "cell_type": "code",
   "execution_count": 3,
   "id": "606a6f3e",
   "metadata": {},
   "outputs": [
    {
     "name": "stdout",
     "output_type": "stream",
     "text": [
      "preparing the key list take : 0.0s\n",
      "decipher the text using all the key take: 0.0009996891021728516s.\n",
      "the cipher text is: MSOKKJCOSXOEEKDTOSLGFWCMCHSUSGX\n",
      "===============================================================\n",
      "A potential key is: KS  the first word will be: CAESAR\n",
      "The full sentence after decipher with this key is: CAESARSWIFEMUSTBEABOVESUSPICION\n",
      "===============================================================\n",
      "check with dictionary takes: 3.695997953414917s.\n",
      "the entire process take: 3.7249975204467773s\n"
     ]
    }
   ],
   "source": [
    "decryption(\"MSOKKJCOSXOEEKDTOSLGFWCMCHSUSGX\",2,6)"
   ]
  },
  {
   "cell_type": "code",
   "execution_count": 4,
   "id": "39cdf81d",
   "metadata": {},
   "outputs": [
    {
     "name": "stdout",
     "output_type": "stream",
     "text": [
      "preparing the key list take : 0.005000591278076172s\n",
      "decipher the text using all the key take: 0.04099917411804199s.\n",
      "the cipher text is: PSPDYLOAFSGFREQKKPOERNIYVSDZSUOVGXSRRIPWERDIPCFSDIQZIASEJVCGXAYBGYXFPSREKFMEXEBIYDGFKREOWGXEQSXSKXGYRRRVMEKFFIPIWJSKFDJMBGCC\n",
      "===============================================================\n",
      "A potential key is: KEY  the first word will be: FORTUNE\n",
      "The full sentence after decipher with this key is: FORTUNEWHICHHASAGREATDEALOFPOWERINOTHERMATTERSBUTESPECIALLYINWARCANBRINGABOUTGREATCHANGESINASITUATIONTHROUGHVERYSLIGHTFORCES\n",
      "===============================================================\n",
      "check with dictionary takes: 96.55033421516418s.\n",
      "the entire process take: 96.65533328056335s\n"
     ]
    }
   ],
   "source": [
    "decryption(\"PSPDYLOAFSGFREQKKPOERNIYVSDZSUOVGXSRRIPWERDIPCFSDIQZIASEJVCGXAYBGYXFPSREKFMEXEBIYDGFKREOWGXEQSXSKXGYRRRVMEKFFIPIWJSKFDJMBGCC\",3,7)"
   ]
  },
  {
   "cell_type": "code",
   "execution_count": 5,
   "id": "96865d38",
   "metadata": {},
   "outputs": [
    {
     "name": "stdout",
     "output_type": "stream",
     "text": [
      "preparing the key list take : 0.3019993305206299s\n",
      "decipher the text using all the key take: 0.881000280380249s.\n",
      "the cipher text is: MTZHZEOQKASVBDOWMWMKMNYIIHVWPEXJA\n",
      "===============================================================\n",
      "A potential key is: IWKD  the first word will be: EXPERIENCE\n",
      "The full sentence after decipher with this key is: EXPERIENCEISTHETEACHEROFALLTHINGS\n",
      "===============================================================\n",
      "check with dictionary takes: 2555.552938222885s.\n",
      "the entire process take: 2558.383937597275s\n"
     ]
    }
   ],
   "source": [
    "decryption(\"MTZHZEOQKASVBDOWMWMKMNYIIHVWPEXJA\",4,10)"
   ]
  },
  {
   "cell_type": "code",
   "execution_count": 6,
   "id": "9fc17226",
   "metadata": {},
   "outputs": [
    {
     "name": "stdout",
     "output_type": "stream",
     "text": [
      "preparing the key list take : 6.763997316360474s\n",
      "decipher the text using all the key take: 24.40999984741211s.\n",
      "the cipher text is: SQLIMXEEKSXMDOSBITOTYVECRDXSCRURZYPOHRG\n",
      "===============================================================\n"
     ]
    },
    {
     "ename": "KeyboardInterrupt",
     "evalue": "",
     "output_type": "error",
     "traceback": [
      "\u001b[1;31m---------------------------------------------------------------------------\u001b[0m",
      "\u001b[1;31mKeyboardInterrupt\u001b[0m                         Traceback (most recent call last)",
      "Cell \u001b[1;32mIn[6], line 1\u001b[0m\n\u001b[1;32m----> 1\u001b[0m \u001b[43mdecryption\u001b[49m\u001b[43m(\u001b[49m\u001b[38;5;124;43m\"\u001b[39;49m\u001b[38;5;124;43mSQLIMXEEKSXMDOSBITOTYVECRDXSCRURZYPOHRG\u001b[39;49m\u001b[38;5;124;43m\"\u001b[39;49m\u001b[43m,\u001b[49m\u001b[38;5;241;43m5\u001b[39;49m\u001b[43m,\u001b[49m\u001b[38;5;241;43m11\u001b[39;49m\u001b[43m)\u001b[49m\n",
      "Cell \u001b[1;32mIn[2], line 98\u001b[0m, in \u001b[0;36mdecryption\u001b[1;34m(ciphertext, keylength, firstwordlength)\u001b[0m\n\u001b[0;32m     96\u001b[0m \u001b[38;5;28;01mfor\u001b[39;00m i \u001b[38;5;129;01min\u001b[39;00m decipherpairlist:\n\u001b[0;32m     97\u001b[0m     \u001b[38;5;28;01mfor\u001b[39;00m j \u001b[38;5;129;01min\u001b[39;00m dictionary:\n\u001b[1;32m---> 98\u001b[0m         \u001b[38;5;28;01mif\u001b[39;00m \u001b[43mi\u001b[49m\u001b[43m[\u001b[49m\u001b[38;5;241;43m0\u001b[39;49m\u001b[43m]\u001b[49m \u001b[38;5;241m==\u001b[39m j:\n\u001b[0;32m     99\u001b[0m             wholeword \u001b[38;5;241m=\u001b[39m []\n\u001b[0;32m    100\u001b[0m             \u001b[38;5;28;01mfor\u001b[39;00m k \u001b[38;5;129;01min\u001b[39;00m \u001b[38;5;28mrange\u001b[39m(\u001b[38;5;28mlen\u001b[39m(ciphernumlist)):\n",
      "\u001b[1;31mKeyboardInterrupt\u001b[0m: "
     ]
    }
   ],
   "source": [
    "decryption(\"SQLIMXEEKSXMDOSBITOTYVECRDXSCRURZYPOHRG\",5,11)"
   ]
  },
  {
   "cell_type": "code",
   "execution_count": null,
   "id": "6edfae20",
   "metadata": {},
   "outputs": [],
   "source": [
    "decryption(\"LDWMEKPOPSWNOAVBIDHIPCEWAETYRVOAUPSINOVDIEDHCDSELHCCPVHRPOHZUSERSFS\",6,9)"
   ]
  },
  {
   "cell_type": "code",
   "execution_count": null,
   "id": "d4828d79",
   "metadata": {},
   "outputs": [],
   "source": [
    "decryption(\"VVVLZWWPBWHZDKBTXLDCGOTGTGRWAQWZSDHEMXLBELUMO\",7,13)"
   ]
  },
  {
   "cell_type": "code",
   "execution_count": null,
   "id": "e5004fe0",
   "metadata": {},
   "outputs": [],
   "source": []
  },
  {
   "cell_type": "code",
   "execution_count": null,
   "id": "1573a6d4",
   "metadata": {},
   "outputs": [],
   "source": []
  }
 ],
 "metadata": {
  "kernelspec": {
   "display_name": "Python 3 (ipykernel)",
   "language": "python",
   "name": "python3"
  },
  "language_info": {
   "codemirror_mode": {
    "name": "ipython",
    "version": 3
   },
   "file_extension": ".py",
   "mimetype": "text/x-python",
   "name": "python",
   "nbconvert_exporter": "python",
   "pygments_lexer": "ipython3",
   "version": "3.9.13"
  }
 },
 "nbformat": 4,
 "nbformat_minor": 5
}
